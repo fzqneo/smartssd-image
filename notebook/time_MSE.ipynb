{
 "cells": [
  {
   "cell_type": "code",
   "execution_count": 166,
   "metadata": {},
   "outputs": [],
   "source": [
    "import cv2\n",
    "import numpy as np\n",
    "from sklearn.metrics import mean_squared_error\n",
    "import time"
   ]
  },
  {
   "cell_type": "code",
   "execution_count": 167,
   "metadata": {},
   "outputs": [],
   "source": [
    "img1 = np.random.randint(256, size=(720, 1280, 3), dtype=np.uint8)\n",
    "img2 = np.random.randint(256, size=(720, 1280, 3), dtype=np.uint8)\n",
    "img1, img2 = img1.astype(np.float), img2.astype(np.float)"
   ]
  },
  {
   "cell_type": "code",
   "execution_count": 171,
   "metadata": {},
   "outputs": [],
   "source": [
    "def mse(arr1, arr2):\n",
    "    # Mean Squre Error between two images\n",
    "    assert isinstance(arr1, np.ndarray) and isinstance(arr2, np.ndarray)\n",
    "    assert arr1.shape == arr2.shape, \"{}, {}\".format(arr1.shape, arr2.shape)\n",
    "\n",
    "#     return np.mean((arr1.astype(np.float) - arr2.astype(np.float))**2)\n",
    "\n",
    "#     return mean_squared_error(arr1.astype(np.float).reshape(-1), arr2.astype(np.float).reshape(-1))\n",
    "\n",
    "# row-by-row\n",
    "    sum_squared_error = 0.\n",
    "    for x in range(arr1.shape[0]):\n",
    "        sum_squared_error += np.sum((arr1[x,:,:] - arr2[x,:,:])**2)\n",
    "  \n",
    "\n",
    "#     sum_squared_error = 0.\n",
    "#     for x in range(arr1.shape[0]):\n",
    "#         for y in range(0, arr1.shape[1], 320): # chunk of 8 in y\n",
    "#             sum_squared_error += np.sum((arr1[x,y:y+320,:] - arr2[x,y:y+320,:])**2)\n",
    "\n",
    "#     sum_squared_error = 0.\n",
    "#     for x in range(arr1.shape[0]):\n",
    "#         for z in range(arr1.shape[2]): # by channel\n",
    "#             sum_squared_error += np.sum((arr1[x,:,z] - arr2[x,:,z])**2)\n",
    "\n",
    "                        \n",
    "    return sum_squared_error / arr1.size"
   ]
  },
  {
   "cell_type": "code",
   "execution_count": 172,
   "metadata": {},
   "outputs": [
    {
     "name": "stdout",
     "output_type": "stream",
     "text": [
      "Total 1.367418s, 13.674 ms / call\n"
     ]
    }
   ],
   "source": [
    "tic = time.time()\n",
    "repeat = 100\n",
    "for _ in range(repeat):\n",
    "    _ = mse(img1, img2)\n",
    "\n",
    "elapsed = time.time() - tic\n",
    "print \"Total {:1f}s, {:.3f} ms / call\".format(elapsed, 1000*elapsed/repeat)"
   ]
  },
  {
   "cell_type": "code",
   "execution_count": 42,
   "metadata": {},
   "outputs": [],
   "source": [
    "# GT= 10913\n",
    "# original: 27 ms / call\n",
    "# sklearn mean_squared_error: 31 ms / call\n",
    "# row by  row: 15 ms / call"
   ]
  },
  {
   "cell_type": "code",
   "execution_count": 168,
   "metadata": {},
   "outputs": [],
   "source": [
    "# TODO: trying multithreading using https://docs.python.org/2.7/library/multiprocessing.html#module-multiprocessing.dummy\n",
    "import itertools\n",
    "\n",
    "def sum_squared_error((arr1, arr2, n, m)):\n",
    "#     print \"get\", n,m\n",
    "#     print arr1.shape, arr2.shape\n",
    "    rv = 0\n",
    "    for x in range(n, arr1.shape[0], m):\n",
    "        rv += np.sum((arr1[x,:,:] - arr2[x,:,:])**2)\n",
    "    return rv\n",
    "\n",
    "def mse_parallel(arr1, arr2, pool):\n",
    "    total = 0.\n",
    "\n",
    "    it = pool.imap(sum_squared_error, map(lambda n: (arr1, arr2, n, 4), range(4)))\n",
    "    rv = np.sum(list(it)) / np.prod(arr1.size)\n",
    "#     print rv\n",
    "    return rv\n",
    "    \n",
    "#     for x in range(arr1.shape[0]):\n",
    "#         pool.apply_async(sum_squared_error, (arr1[x,:,:], arr2[x,:,:]))"
   ]
  },
  {
   "cell_type": "code",
   "execution_count": 169,
   "metadata": {},
   "outputs": [],
   "source": [
    "from multiprocessing.dummy import Pool"
   ]
  },
  {
   "cell_type": "code",
   "execution_count": 170,
   "metadata": {},
   "outputs": [
    {
     "name": "stdout",
     "output_type": "stream",
     "text": [
      "Total 2.072423s, 41.448 ms / call\n"
     ]
    }
   ],
   "source": [
    "pool = Pool(processes=4)\n",
    "tic = time.time()\n",
    "repeat = 50\n",
    "for _ in range(repeat):\n",
    "    _ = mse_parallel(img1, img2, pool)\n",
    "\n",
    "elapsed = time.time() - tic\n",
    "print \"Total {:1f}s, {:.3f} ms / call\".format(elapsed, 1000*elapsed/repeat)"
   ]
  },
  {
   "cell_type": "code",
   "execution_count": 103,
   "metadata": {},
   "outputs": [
    {
     "data": {
      "text/plain": [
       "(array([[ 53.,  23.,  79.],\n",
       "        [ 81., 227.,  88.],\n",
       "        [244., 112., 101.],\n",
       "        ...,\n",
       "        [178., 237., 120.],\n",
       "        [ 19., 238., 221.],\n",
       "        [ 90., 114., 237.]]), array([[254.,  74.,  48.],\n",
       "        [139., 206., 153.],\n",
       "        [156.,  19., 211.],\n",
       "        ...,\n",
       "        [ 36., 231., 138.],\n",
       "        [179., 134., 195.],\n",
       "        [110., 112.,  65.]]))"
      ]
     },
     "execution_count": 103,
     "metadata": {},
     "output_type": "execute_result"
    }
   ],
   "source": [
    "zip(img1, img2)[0]"
   ]
  },
  {
   "cell_type": "code",
   "execution_count": null,
   "metadata": {},
   "outputs": [],
   "source": []
  }
 ],
 "metadata": {
  "kernelspec": {
   "display_name": "Python 2",
   "language": "python",
   "name": "python2"
  },
  "language_info": {
   "codemirror_mode": {
    "name": "ipython",
    "version": 2
   },
   "file_extension": ".py",
   "mimetype": "text/x-python",
   "name": "python",
   "nbconvert_exporter": "python",
   "pygments_lexer": "ipython2",
   "version": "2.7.16"
  }
 },
 "nbformat": 4,
 "nbformat_minor": 2
}
