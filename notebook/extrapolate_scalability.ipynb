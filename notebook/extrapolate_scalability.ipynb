{
 "cells": [
  {
   "cell_type": "code",
   "execution_count": 1,
   "metadata": {},
   "outputs": [],
   "source": [
    "import numpy as np\n",
    "import pandas as pd\n",
    "\n",
    "from utils import get_by_expnames, pretty"
   ]
  },
  {
   "cell_type": "code",
   "execution_count": 24,
   "metadata": {},
   "outputs": [
    {
     "data": {
      "text/html": [
       "<div>\n",
       "<style scoped>\n",
       "    .dataframe tbody tr th:only-of-type {\n",
       "        vertical-align: middle;\n",
       "    }\n",
       "\n",
       "    .dataframe tbody tr th {\n",
       "        vertical-align: top;\n",
       "    }\n",
       "\n",
       "    .dataframe thead th {\n",
       "        text-align: right;\n",
       "    }\n",
       "</style>\n",
       "<table border=\"1\" class=\"dataframe\">\n",
       "  <thead>\n",
       "    <tr style=\"text-align: right;\">\n",
       "      <th></th>\n",
       "      <th>workload</th>\n",
       "      <th>disk</th>\n",
       "      <th>avg_wall_ms</th>\n",
       "      <th>avg_cpu_ms</th>\n",
       "      <th>bandwidth</th>\n",
       "      <th>throughput</th>\n",
       "    </tr>\n",
       "  </thead>\n",
       "  <tbody>\n",
       "    <tr>\n",
       "      <th>0</th>\n",
       "      <td>redness</td>\n",
       "      <td>baseline</td>\n",
       "      <td>2.93</td>\n",
       "      <td>10.75</td>\n",
       "      <td>25.70</td>\n",
       "      <td>341.296928</td>\n",
       "    </tr>\n",
       "    <tr>\n",
       "      <th>1</th>\n",
       "      <td>hash</td>\n",
       "      <td>baseline</td>\n",
       "      <td>2.90</td>\n",
       "      <td>10.35</td>\n",
       "      <td>25.79</td>\n",
       "      <td>344.827586</td>\n",
       "    </tr>\n",
       "    <tr>\n",
       "      <th>2</th>\n",
       "      <td>resnet10</td>\n",
       "      <td>baseline</td>\n",
       "      <td>5.09</td>\n",
       "      <td>7.08</td>\n",
       "      <td>14.78</td>\n",
       "      <td>196.463654</td>\n",
       "    </tr>\n",
       "    <tr>\n",
       "      <th>3</th>\n",
       "      <td>redness</td>\n",
       "      <td>smart</td>\n",
       "      <td>0.78</td>\n",
       "      <td>4.54</td>\n",
       "      <td>1328.40</td>\n",
       "      <td>1282.051282</td>\n",
       "    </tr>\n",
       "    <tr>\n",
       "      <th>4</th>\n",
       "      <td>hash</td>\n",
       "      <td>smart</td>\n",
       "      <td>0.74</td>\n",
       "      <td>4.03</td>\n",
       "      <td>1408.60</td>\n",
       "      <td>1351.351351</td>\n",
       "    </tr>\n",
       "    <tr>\n",
       "      <th>5</th>\n",
       "      <td>resnet10</td>\n",
       "      <td>smart</td>\n",
       "      <td>0.77</td>\n",
       "      <td>3.54</td>\n",
       "      <td>1358.36</td>\n",
       "      <td>1298.701299</td>\n",
       "    </tr>\n",
       "  </tbody>\n",
       "</table>\n",
       "</div>"
      ],
      "text/plain": [
       "   workload      disk  avg_wall_ms  avg_cpu_ms  bandwidth   throughput\n",
       "0   redness  baseline         2.93       10.75      25.70   341.296928\n",
       "1      hash  baseline         2.90       10.35      25.79   344.827586\n",
       "2  resnet10  baseline         5.09        7.08      14.78   196.463654\n",
       "3   redness     smart         0.78        4.54    1328.40  1282.051282\n",
       "4      hash     smart         0.74        4.03    1408.60  1351.351351\n",
       "5  resnet10     smart         0.77        3.54    1358.36  1298.701299"
      ]
     },
     "execution_count": 24,
     "metadata": {},
     "output_type": "execute_result"
    }
   ],
   "source": [
    "# when disk is saturated: \n",
    "# how many cores: avg_cpu_ms / avg_wall_ms\n",
    "\n",
    "data = [\n",
    "    # baseline: take 16 threads\n",
    "    ('redness', 'baseline', 2.93, 10.75, 25.7),\n",
    "    ('hash', 'baseline', 2.9, 10.35, 25.79),\n",
    "    ('resnet10', 'baseline', 5.09, 7.08, 14.78),\n",
    "    # smart: take 8 threads\n",
    "    ('redness', 'smart', .78, 4.54, 1328.4),\n",
    "    ('hash', 'smart', .74, 4.03, 1408.6),\n",
    "    ('resnet10', 'smart', .77, 3.54, 1358.36)\n",
    "]\n",
    "\n",
    "df = pd.DataFrame(data, columns=['workload', 'disk', 'avg_wall_ms', 'avg_cpu_ms', 'bandwidth'])\n",
    "df['throughput'] = 1000. / df['avg_wall_ms']\n",
    "df"
   ]
  },
  {
   "cell_type": "code",
   "execution_count": 25,
   "metadata": {},
   "outputs": [],
   "source": [
    "N_CPU = 16\n",
    "SATA = 500\n",
    "NVME2000 = 2000\n",
    "NVME6000 = 6000"
   ]
  },
  {
   "cell_type": "code",
   "execution_count": 26,
   "metadata": {},
   "outputs": [
    {
     "name": "stdout",
     "output_type": "stream",
     "text": [
      "   workload      disk  n_disk_by_cpu  n_disk_by_bus     n_disk  \\\n",
      "0   redness  baseline       4.360930      19.455253   4.360930   \n",
      "1      hash  baseline       4.483092      19.387359   4.483092   \n",
      "2  resnet10  baseline      11.502825      33.829499  11.502825   \n",
      "\n",
      "   achievable_tput  \n",
      "0      1488.372093  \n",
      "1      1545.893720  \n",
      "2      2259.887006  \n",
      "   workload   disk  n_disk_by_cpu  n_disk_by_bus    n_disk  achievable_tput\n",
      "3   redness  smart       2.748899       1.505571  1.505571      1930.218732\n",
      "4      hash  smart       2.937965       1.419849  1.419849      1918.715535\n",
      "5  resnet10  smart       3.480226       1.472364  1.472364      1912.160692\n",
      "   workload   disk  n_disk_by_cpu  n_disk_by_bus    n_disk  achievable_tput\n",
      "3   redness  smart       2.748899       4.516712  2.748899      3524.229075\n",
      "4      hash  smart       2.937965       4.259548  2.937965      3970.223325\n",
      "5  resnet10  smart       3.480226       4.417091  3.480226      4519.774011\n"
     ]
    }
   ],
   "source": [
    "for disk, bus in zip(['baseline', 'smart', 'smart'], [SATA, NVME2000, NVME6000]):\n",
    "    df1 = df[df['disk']==disk].copy()\n",
    "    df1['n_disk_by_cpu'] = N_CPU*1e3 / (df1['avg_cpu_ms'] * df1['throughput'])\n",
    "    df1['n_disk_by_bus'] = bus / df1['bandwidth']\n",
    "    df1['n_disk'] = df1[['n_disk_by_cpu', 'n_disk_by_bus']].min(axis=1)\n",
    "    df1['achievable_tput'] = df1['throughput'] * df1['n_disk']\n",
    "    print df1[['workload', 'disk', 'n_disk_by_cpu', 'n_disk_by_bus', 'n_disk', 'achievable_tput']]"
   ]
  },
  {
   "cell_type": "code",
   "execution_count": null,
   "metadata": {},
   "outputs": [],
   "source": []
  }
 ],
 "metadata": {
  "kernelspec": {
   "display_name": "Python 2",
   "language": "python",
   "name": "python2"
  },
  "language_info": {
   "codemirror_mode": {
    "name": "ipython",
    "version": 2
   },
   "file_extension": ".py",
   "mimetype": "text/x-python",
   "name": "python",
   "nbconvert_exporter": "python",
   "pygments_lexer": "ipython2",
   "version": "2.7.16"
  }
 },
 "nbformat": 4,
 "nbformat_minor": 2
}
